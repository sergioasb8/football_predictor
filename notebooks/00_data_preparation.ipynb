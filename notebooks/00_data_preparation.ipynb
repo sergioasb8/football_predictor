{
 "cells": [
  {
   "cell_type": "markdown",
   "metadata": {},
   "source": [
    "# 1. Info.\n",
    "\n",
    "This notebook is to create all the data enrichments.\n",
    "\n",
    "Before running the notebook make sure the files bundesliga.csv, la_liga.csv, ligue_1.csv, premier_league.csv, primeira_liga.csv, and serie_a.csv to guarantee the notebook's correct funtionility."
   ]
  },
  {
   "cell_type": "markdown",
   "metadata": {},
   "source": [
    "# 2. Data enrichments."
   ]
  },
  {
   "cell_type": "markdown",
   "metadata": {},
   "source": [
    "## 2.1. Import libraries"
   ]
  },
  {
   "cell_type": "code",
   "execution_count": 1,
   "metadata": {},
   "outputs": [],
   "source": [
    "import pandas as pd\n",
    "import numpy as np\n",
    "from functions import get_points, away_result, home_result"
   ]
  },
  {
   "cell_type": "markdown",
   "metadata": {},
   "source": [
    "## 2.2. Read the data"
   ]
  },
  {
   "cell_type": "code",
   "execution_count": 2,
   "metadata": {},
   "outputs": [],
   "source": [
    "data = pd.read_csv('../data/premier_league.csv')"
   ]
  },
  {
   "cell_type": "markdown",
   "metadata": {},
   "source": [
    "## 2.3. Teams to categorical"
   ]
  },
  {
   "cell_type": "code",
   "execution_count": 3,
   "metadata": {},
   "outputs": [],
   "source": [
    "data['HomeTeam'] = data['HomeTeam'].str.replace(\"'\",\"\").str.replace(\" \",\"_\")\n",
    "data['AwayTeam'] = data['AwayTeam'].str.replace(\"'\",\"\").str.replace(\" \",\"_\")"
   ]
  },
  {
   "cell_type": "code",
   "execution_count": 4,
   "metadata": {},
   "outputs": [],
   "source": [
    "teams_list = list(set(data['HomeTeam'].unique().tolist()+data['AwayTeam'].unique().tolist()))"
   ]
  },
  {
   "cell_type": "code",
   "execution_count": 5,
   "metadata": {},
   "outputs": [],
   "source": [
    "# save the teams dict inside a csv file, so it can be used later in the project\n",
    "teams_dict_df = pd.DataFrame({'Team':teams_list}).reset_index().rename(columns={'index':'index_team'})\n",
    "# teams_dict_df.to_csv('../data/teams_dict.csv', index=False)"
   ]
  },
  {
   "cell_type": "code",
   "execution_count": 6,
   "metadata": {},
   "outputs": [],
   "source": [
    "# create the dict\n",
    "team_dict = {}\n",
    "for tuple in teams_dict_df.itertuples():\n",
    "    team_dict.update({tuple.Team:tuple.index_team})\n",
    "\n",
    "data['HomeTeam'] = data['HomeTeam'].replace(team_dict)\n",
    "data['AwayTeam'] = data['AwayTeam'].replace(team_dict)"
   ]
  },
  {
   "cell_type": "markdown",
   "metadata": {},
   "source": [
    "## 2.4. Adjust dtypes"
   ]
  },
  {
   "cell_type": "code",
   "execution_count": 7,
   "metadata": {},
   "outputs": [],
   "source": [
    "for column in data.loc[:, data.dtypes == float].columns:\n",
    "    data[column] = data[column].astype('int')"
   ]
  },
  {
   "cell_type": "markdown",
   "metadata": {},
   "source": [
    "## 2.5. Order the data to have one teams information by line"
   ]
  },
  {
   "cell_type": "code",
   "execution_count": 8,
   "metadata": {},
   "outputs": [],
   "source": [
    "team_data = {\n",
    "    'Date':[],\n",
    "    'Team':[],\n",
    "    'Opponent':[],\n",
    "    'FTG_scored':[],\n",
    "    'FTG_received':[],\n",
    "    'FT_Result':[],\n",
    "    'HTG_scored':[],\n",
    "    'HTG_received':[],\n",
    "    'HT_Result':[],\n",
    "    'season':[],\n",
    "    'shots':[],\n",
    "    'shots_received':[],\n",
    "    'shots_target':[],\n",
    "    'shots_target_received':[],\n",
    "    'fouls_commited':[],\n",
    "    'fouls_received':[],\n",
    "    'corners':[],\n",
    "    'corners_against':[],\n",
    "    'yellow_cards':[],\n",
    "    'yellow_cards_opponent':[],\n",
    "    'red_cards':[],\n",
    "    'red_cards_opponent':[],\n",
    "    'Home':[]\n",
    "}"
   ]
  },
  {
   "cell_type": "code",
   "execution_count": 10,
   "metadata": {},
   "outputs": [],
   "source": [
    "for tuple in data.itertuples():\n",
    "    # home\n",
    "    team_data['Date'].append(tuple.Date)\n",
    "    team_data['Team'].append(tuple.HomeTeam)\n",
    "    team_data['Opponent'].append(tuple.AwayTeam)\n",
    "    team_data['FTG_scored'].append(tuple.FTHG)\n",
    "    team_data['FTG_received'].append(tuple.FTAG)\n",
    "    team_data['FT_Result'].append(home_result[tuple.FTR])\n",
    "    team_data['HTG_scored'].append(tuple.HTHG)\n",
    "    team_data['HTG_received'].append(tuple.HTAG)\n",
    "    team_data['HT_Result'].append(home_result[tuple.HTR])\n",
    "    team_data['season'].append(tuple.season)\n",
    "    team_data['shots'].append(tuple.HS)\n",
    "    team_data['shots_received'].append(tuple.AS)\n",
    "    team_data['shots_target'].append(tuple.HST)\n",
    "    team_data['shots_target_received'].append(tuple.AST)\n",
    "    team_data['fouls_commited'].append(tuple.HF)\n",
    "    team_data['fouls_received'].append(tuple.AF)\n",
    "    team_data['corners'].append(tuple.HC)\n",
    "    team_data['corners_against'].append(tuple.AC)\n",
    "    team_data['yellow_cards'].append(tuple.HY)\n",
    "    team_data['yellow_cards_opponent'].append(tuple.AY)\n",
    "    team_data['red_cards'].append(tuple.HR)\n",
    "    team_data['red_cards_opponent'].append(tuple.AR)\n",
    "    team_data['Home'].append(1)\n",
    "\n",
    "    # away\n",
    "    team_data['Date'].append(tuple.Date)\n",
    "    team_data['Team'].append(tuple.AwayTeam)\n",
    "    team_data['Opponent'].append(tuple.HomeTeam)\n",
    "    team_data['FTG_scored'].append(tuple.FTAG)\n",
    "    team_data['FTG_received'].append(tuple.FTHG)\n",
    "    team_data['FT_Result'].append(away_result[tuple.FTR]) ####\n",
    "    team_data['HTG_scored'].append(tuple.HTAG)\n",
    "    team_data['HTG_received'].append(tuple.HTHG)\n",
    "    team_data['HT_Result'].append(away_result[tuple.HTR]) ####\n",
    "    team_data['season'].append(tuple.season)\n",
    "    team_data['shots'].append(tuple.AS)\n",
    "    team_data['shots_received'].append(tuple.HS)\n",
    "    team_data['shots_target'].append(tuple.AST)\n",
    "    team_data['shots_target_received'].append(tuple.HST)\n",
    "    team_data['fouls_commited'].append(tuple.AF)\n",
    "    team_data['fouls_received'].append(tuple.HF)\n",
    "    team_data['corners'].append(tuple.AC)\n",
    "    team_data['corners_against'].append(tuple.HC)\n",
    "    team_data['yellow_cards'].append(tuple.AY)\n",
    "    team_data['yellow_cards_opponent'].append(tuple.HY)\n",
    "    team_data['red_cards'].append(tuple.AR)\n",
    "    team_data['red_cards_opponent'].append(tuple.HR)\n",
    "    team_data['Home'].append(0)"
   ]
  },
  {
   "cell_type": "code",
   "execution_count": 11,
   "metadata": {},
   "outputs": [],
   "source": [
    "df = pd.DataFrame(data=team_data)"
   ]
  },
  {
   "cell_type": "markdown",
   "metadata": {},
   "source": [
    "## 2.5. Add goals scored, received, goal difference and points by team"
   ]
  },
  {
   "cell_type": "code",
   "execution_count": 12,
   "metadata": {},
   "outputs": [],
   "source": [
    "df['Date'] = pd.to_datetime(df['Date'], format=\"%d/%m/%Y\")"
   ]
  },
  {
   "cell_type": "code",
   "execution_count": 13,
   "metadata": {},
   "outputs": [],
   "source": [
    "sorted_data = df.sort_values(by=['season','Date']).reset_index(drop=True)"
   ]
  },
  {
   "cell_type": "code",
   "execution_count": 14,
   "metadata": {},
   "outputs": [],
   "source": [
    "FTG_scored = {}\n",
    "FTG_received = {}\n",
    "HTG_scored = {}\n",
    "HTG_received = {}\n",
    "total_points = {}\n",
    "shots = {}\n",
    "shots_received = {}\n",
    "shots_target = {}\n",
    "shots_target_received = {}\n",
    "fouls_commited = {}\n",
    "fouls_received = {}\n",
    "corners = {}\n",
    "corners_against = {}\n",
    "yellow_cards = {}\n",
    "yellow_cards_opponent = {}\n",
    "red_cards = {}\n",
    "red_cards_opponent = {}\n",
    "\n",
    "# columns to fill\n",
    "sorted_data['FTG_scored_Total'] = 0\n",
    "sorted_data['FTG_received_Total'] = 0\n",
    "sorted_data['HTG_scored_Total'] = 0\n",
    "sorted_data['HTG_received_Total'] = 0\n",
    "sorted_data['shots_Total'] = 0\n",
    "sorted_data['shots_received_Total'] = 0\n",
    "sorted_data['shots_target_Total'] = 0\n",
    "sorted_data['shots_target_received_Total'] = 0\n",
    "sorted_data['fouls_commited_Total'] = 0\n",
    "sorted_data['fouls_received_Total'] = 0\n",
    "sorted_data['corners_Total'] = 0\n",
    "sorted_data['corners_against_Total'] = 0\n",
    "sorted_data['yellow_cards_Total'] = 0\n",
    "sorted_data['yellow_cards_opponent_Total'] = 0\n",
    "sorted_data['red_cards_Total'] = 0\n",
    "sorted_data['red_cards_opponent_Total'] = 0\n",
    "\n",
    "sorted_data['points'] = 0\n",
    "\n",
    "for season in sorted_data['season'].unique().tolist():\n",
    "    \n",
    "    season_df =  sorted_data[sorted_data['season']==season]\n",
    "    \n",
    "    # at the begining of the season restart all the dictionaries\n",
    "    dict_Fscored = FTG_scored.copy()\n",
    "    dict_Freceived = FTG_received.copy()\n",
    "    dict_Hscored = HTG_scored.copy()\n",
    "    dict_Hreceived = HTG_received.copy()\n",
    "    dict_points = total_points.copy()\n",
    "    dict_shots = shots.copy()\n",
    "    dict_shots_received = shots_received.copy()\n",
    "    dict_shots_target = shots_target.copy()\n",
    "    dict_shots_target_received = shots_target_received.copy()\n",
    "    dict_fouls_commited = fouls_commited.copy()\n",
    "    dict_fouls_received = fouls_received.copy()\n",
    "    dict_corners = corners.copy()\n",
    "    dict_corners_against = corners_against.copy()\n",
    "    dict_yellow_cards = yellow_cards.copy()\n",
    "    dict_yellow_cards_opponent = yellow_cards_opponent.copy()\n",
    "    dict_red_cards = red_cards.copy()\n",
    "    dict_red_cards_opponent = red_cards_opponent.copy()\n",
    "\n",
    "    for tuple in season_df.itertuples():\n",
    "\n",
    "        # update values in dict to fill the dfFrame\n",
    "        if dict_Fscored.get(tuple.Team, False):\n",
    "\n",
    "            # update the dataFrame\n",
    "            sorted_data.loc[tuple.Index,'FTG_scored_Total'] = dict_Fscored[tuple.Team]\n",
    "            sorted_data.loc[tuple.Index,'FTG_received_Total'] = dict_Freceived[tuple.Team]\n",
    "            sorted_data.loc[tuple.Index,'HTG_scored_Total'] = dict_Hscored[tuple.Team]\n",
    "            sorted_data.loc[tuple.Index,'HTG_received_Total'] = dict_Hreceived[tuple.Team]\n",
    "            sorted_data.loc[tuple.Index,'shots_Total'] = dict_shots[tuple.Team]\n",
    "            sorted_data.loc[tuple.Index,'shots_received_Total'] = dict_shots_received[tuple.Team]\n",
    "            sorted_data.loc[tuple.Index,'shots_target_Total'] = dict_shots_target[tuple.Team]\n",
    "            sorted_data.loc[tuple.Index,'shots_target_received_Total'] = dict_shots_target_received[tuple.Team]\n",
    "            sorted_data.loc[tuple.Index,'fouls_commited_Total'] = dict_fouls_commited[tuple.Team]\n",
    "            sorted_data.loc[tuple.Index,'fouls_received_Total'] = dict_fouls_received[tuple.Team]\n",
    "            sorted_data.loc[tuple.Index,'corners_Total'] = dict_corners[tuple.Team]\n",
    "            sorted_data.loc[tuple.Index,'corners_against_Total'] = dict_corners_against[tuple.Team]\n",
    "            sorted_data.loc[tuple.Index,'yellow_cards_Total'] = dict_yellow_cards[tuple.Team]\n",
    "            sorted_data.loc[tuple.Index,'yellow_cards_opponent_Total'] = dict_yellow_cards_opponent[tuple.Team]\n",
    "            sorted_data.loc[tuple.Index,'red_cards_Total'] = dict_red_cards[tuple.Team]\n",
    "            sorted_data.loc[tuple.Index,'red_cards_opponent_Total'] = dict_red_cards_opponent[tuple.Team]\n",
    "            sorted_data.loc[tuple.Index,'points'] = dict_points[tuple.Team]\n",
    "\n",
    "            dict_Fscored[tuple.Team] = dict_Fscored[tuple.Team] + tuple.FTG_scored\n",
    "            dict_Freceived[tuple.Team] = dict_Freceived[tuple.Team] + tuple.FTG_received\n",
    "            dict_Hscored[tuple.Team] = dict_Hscored[tuple.Team] + tuple.HTG_scored\n",
    "            dict_Hreceived[tuple.Team] = dict_Hreceived[tuple.Team] + tuple.HTG_received\n",
    "            dict_shots[tuple.Team] = dict_shots[tuple.Team] + tuple.shots\n",
    "            dict_shots_received[tuple.Team] = dict_shots_received[tuple.Team] + tuple.shots_received\n",
    "            dict_shots_target[tuple.Team] = dict_shots_target[tuple.Team] + tuple.shots_target\n",
    "            dict_shots_target_received[tuple.Team] = dict_shots_target_received[tuple.Team] + tuple.shots_target_received\n",
    "            dict_fouls_commited[tuple.Team] = dict_fouls_commited[tuple.Team] + tuple.fouls_commited\n",
    "            dict_fouls_received[tuple.Team] = dict_fouls_received[tuple.Team] + tuple.fouls_received\n",
    "            dict_corners[tuple.Team] = dict_corners[tuple.Team] + tuple.corners\n",
    "            dict_corners_against[tuple.Team] = dict_corners_against[tuple.Team] + tuple.corners_against\n",
    "            dict_yellow_cards[tuple.Team] = dict_yellow_cards[tuple.Team] + tuple.yellow_cards\n",
    "            dict_yellow_cards_opponent[tuple.Team] = dict_yellow_cards_opponent[tuple.Team] + tuple.yellow_cards_opponent\n",
    "            dict_red_cards[tuple.Team] = dict_red_cards[tuple.Team] + tuple.red_cards\n",
    "            dict_red_cards_opponent[tuple.Team] = dict_red_cards_opponent[tuple.Team] + tuple.red_cards_opponent\n",
    "            dict_points[tuple.Team] = dict_points[tuple.Team] + get_points(tuple.FT_Result)\n",
    "\n",
    "        else:\n",
    "\n",
    "            # update the dataFrame\n",
    "            sorted_data.loc[tuple.Index,'FTG_scored_Total'] = 0\n",
    "            sorted_data.loc[tuple.Index,'FTG_received_Total'] = 0\n",
    "            sorted_data.loc[tuple.Index,'HTG_scored_Total'] = 0\n",
    "            sorted_data.loc[tuple.Index,'HTG_received_Total'] = 0\n",
    "            sorted_data.loc[tuple.Index,'shots_Total'] = 0\n",
    "            sorted_data.loc[tuple.Index,'shots_received_Total'] = 0\n",
    "            sorted_data.loc[tuple.Index,'shots_target_Total'] = 0\n",
    "            sorted_data.loc[tuple.Index,'shots_target_received_Total'] = 0\n",
    "            sorted_data.loc[tuple.Index,'fouls_commited_Total'] = 0\n",
    "            sorted_data.loc[tuple.Index,'fouls_received_Total'] = 0\n",
    "            sorted_data.loc[tuple.Index,'corners_Total'] = 0\n",
    "            sorted_data.loc[tuple.Index,'corners_against_Total'] = 0\n",
    "            sorted_data.loc[tuple.Index,'yellow_cards_Total'] = 0\n",
    "            sorted_data.loc[tuple.Index,'yellow_cards_opponent_Total'] = 0\n",
    "            sorted_data.loc[tuple.Index,'red_cards_Total'] = 0\n",
    "            sorted_data.loc[tuple.Index,'red_cards_opponent_Total'] = 0\n",
    "            sorted_data.loc[tuple.Index,'points'] = 0\n",
    "\n",
    "            dict_Fscored.update({tuple.Team:tuple.FTG_scored})\n",
    "            dict_Freceived.update({tuple.Team:tuple.FTG_received})\n",
    "            dict_Hscored.update({tuple.Team:tuple.HTG_scored})\n",
    "            dict_Hreceived.update({tuple.Team:tuple.HTG_received})\n",
    "            dict_points.update({tuple.Team:get_points(tuple.FT_Result)})\n",
    "            dict_shots.update({tuple.Team:tuple.shots})\n",
    "            dict_shots_received.update({tuple.Team:tuple.shots_received})\n",
    "            dict_shots_target.update({tuple.Team:tuple.shots_target})\n",
    "            dict_shots_target_received.update({tuple.Team:tuple.shots_target_received})\n",
    "            dict_fouls_commited.update({tuple.Team:tuple.fouls_commited})\n",
    "            dict_fouls_received.update({tuple.Team:tuple.fouls_received})\n",
    "            dict_corners.update({tuple.Team:tuple.corners})\n",
    "            dict_corners_against.update({tuple.Team:tuple.corners_against})\n",
    "            dict_yellow_cards.update({tuple.Team:tuple.yellow_cards})\n",
    "            dict_yellow_cards_opponent.update({tuple.Team:tuple.yellow_cards_opponent})\n",
    "            dict_red_cards.update({tuple.Team:tuple.red_cards})\n",
    "            dict_red_cards_opponent.update({tuple.Team:tuple.red_cards_opponent})"
   ]
  },
  {
   "cell_type": "code",
   "execution_count": 15,
   "metadata": {},
   "outputs": [],
   "source": [
    "sorted_data['goal_difference'] = sorted_data['FTG_scored_Total'] - sorted_data['FTG_received_Total']"
   ]
  },
  {
   "cell_type": "markdown",
   "metadata": {},
   "source": [
    "## 2.6. Position\n",
    "\n",
    "Current position at the begining of the match"
   ]
  },
  {
   "cell_type": "code",
   "execution_count": 16,
   "metadata": {},
   "outputs": [],
   "source": [
    "seasons_list = sorted_data['season'].unique().tolist()\n",
    "sorted_data['position'] = 0\n",
    "\n",
    "for season in seasons_list:\n",
    "    season_data =  sorted_data[sorted_data['season']==season]\n",
    "    fixture_list = sorted_data['Date'].unique().tolist()\n",
    "    fixture_list.sort()\n",
    "\n",
    "    for fixture in fixture_list:\n",
    "        if fixture == 1:\n",
    "            pass\n",
    "        else:\n",
    "            # the season dataFrame will be filtered to get the past data, drop duplicates\n",
    "            # sort by points and goals and finally merge the output with the data from the\n",
    "            # current fixture\n",
    "            past_data = season_data[season_data['Date']<=fixture]\n",
    "            unique_teams_data = past_data.drop_duplicates(\n",
    "                subset=['Team'], \n",
    "                keep='last'\n",
    "            )\n",
    "            position_data = unique_teams_data.sort_values(\n",
    "                by=['points','goal_difference','FTG_scored_Total','FTG_received_Total'],\n",
    "                ascending=False\n",
    "            ).reset_index(drop=True)\n",
    "            current_position_data = position_data[['Team']].reset_index()\n",
    "            current_position_data.columns = ['current_position','Team']\n",
    "            current_position_data['current_position'] = current_position_data['current_position']+1\n",
    "            \n",
    "            fixture_data = season_data[season_data['Date']==fixture].reset_index()\n",
    "            \n",
    "            fixture_position_data = fixture_data.merge(current_position_data, how='left', on='Team')\n",
    "            \n",
    "            for tuple in fixture_position_data.itertuples():\n",
    "                sorted_data.loc[tuple.index,'position'] = tuple.current_position"
   ]
  },
  {
   "cell_type": "markdown",
   "metadata": {},
   "source": [
    "## 2.7. win_rate, mooving_win_rate, mooving goals scored, and mooving goals received\n",
    "\n",
    "The mooving rates are calculated based on a 5 mooving average because that is the number of matchs to calculate a team's form in multiple football data sites."
   ]
  },
  {
   "cell_type": "code",
   "execution_count": 17,
   "metadata": {},
   "outputs": [],
   "source": [
    "# this new column is because when creating the win rate, the only result that should sum must be the win.\n",
    "sorted_data['Win'] = sorted_data['FT_Result'].replace({2:0})"
   ]
  },
  {
   "cell_type": "code",
   "execution_count": 18,
   "metadata": {},
   "outputs": [],
   "source": [
    "sorted_data['win_rate'] = ''\n",
    "sorted_data['mooving_win_rate'] = ''\n",
    "sorted_data['mooving_goals_scored'] = ''\n",
    "sorted_data['mooving_goals_received'] = ''\n",
    "\n",
    "idx_delete = []\n",
    "\n",
    "for season in sorted_data['season'].unique().tolist():\n",
    "    # get data season\n",
    "    data_season = sorted_data.query(f\"season == '{season}'\")\n",
    "\n",
    "    # iterate by team\n",
    "    for team in data_season['Team'].unique().tolist():\n",
    "        # get data by team\n",
    "        data_team = data_season.query(f\"Team == {team}\").reset_index().rename(columns={'index':'old_idx'})\n",
    "\n",
    "\n",
    "        # get the win_rate, mooving win_rate and mooving_goals\n",
    "        for idx, row in data_team.iterrows():\n",
    "            # condition to avoid out of index mistake\n",
    "            if idx + 1 <= len(data_team['old_idx']):\n",
    "\n",
    "                # win_rate\n",
    "                total_wins = int(data_team.query(f\"old_idx < {row['old_idx']}\")['Win'].sum())\n",
    "                if total_wins == 0:\n",
    "                    sorted_data.loc[data_team.loc[idx,'old_idx'],'win_rate'] = 0\n",
    "                else:\n",
    "                    sorted_data.loc[data_team.loc[idx,'old_idx'],'win_rate'] = total_wins / idx\n",
    "\n",
    "                # mooving_win_rate\n",
    "                # get the index list filter\n",
    "                if idx < 5:\n",
    "                    index_list = [idx_number for idx_number in range(0,idx+1)]\n",
    "                else:\n",
    "                    index_list = [idx_number for idx_number in range(idx-4,idx+1)]\n",
    "\n",
    "                total_wins = int(data_team.query(f\"index in {index_list}\")['Win'].sum())\n",
    "                if total_wins == 0:\n",
    "                    sorted_data.loc[data_team.loc[idx,'old_idx'],'mooving_win_rate'] = 0\n",
    "                elif idx == 0:\n",
    "                    sorted_data.loc[data_team.loc[idx,'old_idx'],'mooving_win_rate'] = 0\n",
    "                else:\n",
    "                    sorted_data.loc[data_team.loc[idx,'old_idx'],'mooving_win_rate'] = total_wins / 5\n",
    "                \n",
    "                # mooving goals scored\n",
    "                total_goals_scored = int(data_team.query(f\"index in {index_list}\")['FTG_scored_Total'].sum())\n",
    "                if total_goals_scored == 0:\n",
    "                    sorted_data.loc[data_team.loc[idx,'old_idx'],'mooving_goals_scored'] = 0\n",
    "                elif idx == 0:\n",
    "                    sorted_data.loc[data_team.loc[idx,'old_idx'],'mooving_goals_scored'] = 0\n",
    "                else:\n",
    "                    sorted_data.loc[data_team.loc[idx,'old_idx'],'mooving_goals_scored'] = total_goals_scored / 5\n",
    "\n",
    "                # mooving goals received\n",
    "                total_goals_received = int(data_team.query(f\"index in {index_list}\")['FTG_received_Total'].sum())\n",
    "                if total_goals_received == 0:\n",
    "                    sorted_data.loc[data_team.loc[idx,'old_idx'],'mooving_goals_received'] = 0\n",
    "                elif idx == 0:\n",
    "                    sorted_data.loc[data_team.loc[idx,'old_idx'],'mooving_goals_received'] = 0\n",
    "                else:\n",
    "                    sorted_data.loc[data_team.loc[idx,'old_idx'],'mooving_goals_received'] = total_goals_received / 5\n",
    "\n",
    "                # index of rows to be delete\n",
    "                if idx < 5:\n",
    "                    idx_delete.append(data_team.loc[idx,'old_idx'])\n"
   ]
  },
  {
   "cell_type": "markdown",
   "metadata": {},
   "source": [
    "# 3. Export the enriched data"
   ]
  },
  {
   "cell_type": "code",
   "execution_count": 19,
   "metadata": {},
   "outputs": [],
   "source": [
    "sorted_data.to_csv('../data/enriched_data/premier_league.csv', index=False)"
   ]
  },
  {
   "cell_type": "markdown",
   "metadata": {},
   "source": [
    "End of the botebook"
   ]
  }
 ],
 "metadata": {
  "kernelspec": {
   "display_name": "Python 3",
   "language": "python",
   "name": "python3"
  },
  "language_info": {
   "codemirror_mode": {
    "name": "ipython",
    "version": 3
   },
   "file_extension": ".py",
   "mimetype": "text/x-python",
   "name": "python",
   "nbconvert_exporter": "python",
   "pygments_lexer": "ipython3",
   "version": "3.11.6"
  },
  "orig_nbformat": 4
 },
 "nbformat": 4,
 "nbformat_minor": 2
}

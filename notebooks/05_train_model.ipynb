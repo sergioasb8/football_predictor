{
 "cells": [
  {
   "cell_type": "markdown",
   "metadata": {},
   "source": [
    "# 1. Info\n",
    "\n",
    "Notebook to train the model.\n",
    "\n",
    "Before running this model run the notebook \"__data_preparation.ipynb__\" and to have a better understanding of the model parameters run the notebook \"__parameter_tuning.ipynb__\"."
   ]
  },
  {
   "cell_type": "markdown",
   "metadata": {},
   "source": [
    "# 2. Saving the model"
   ]
  },
  {
   "cell_type": "code",
   "execution_count": 1,
   "metadata": {},
   "outputs": [],
   "source": [
    "# import libraries\n",
    "import pandas as pd\n",
    "import xgboost as xgb\n",
    "from sklearn.feature_extraction import DictVectorizer\n",
    "import pickle"
   ]
  },
  {
   "cell_type": "code",
   "execution_count": 2,
   "metadata": {},
   "outputs": [],
   "source": [
    "# get the data for the model\n",
    "\n",
    "data_model = pd.read_csv('../data/enriched_data/premier_league.csv')\n",
    "\n",
    "data_model.columns = data_model.columns.str.lower().str.replace(' ', '_')\n",
    "\n",
    "most_meaningful_features = ['ftg_scored_total','htg_scored_total','points','goal_difference','position','win_rate','mooving_win_rate','mooving_goals_scored']\n",
    "\n",
    "model_df = data_model[most_meaningful_features + ['win']].copy()\n",
    "y_df = model_df.win.values\n",
    "del model_df['win']"
   ]
  },
  {
   "cell_type": "code",
   "execution_count": 3,
   "metadata": {},
   "outputs": [],
   "source": [
    "# vectorize the data\n",
    "dv = DictVectorizer(sparse=False)\n",
    "\n",
    "X_dict = model_df[most_meaningful_features].to_dict(orient='records')\n",
    "X_df = dv.fit_transform(X_dict)\n",
    "\n",
    "features = dv.feature_names_\n",
    "dx = xgb.DMatrix(X_df, label=y_df, feature_names=features)"
   ]
  },
  {
   "cell_type": "code",
   "execution_count": 4,
   "metadata": {},
   "outputs": [],
   "source": [
    "# set the parameters\n",
    "xgb_params = {\n",
    "    'eta': 0.3, \n",
    "    'max_depth': 4,\n",
    "    'min_child_weight': 1,\n",
    "    \n",
    "    'objective': 'binary:logistic',\n",
    "    'nthread': 8,\n",
    "    \n",
    "    'seed': 1,\n",
    "    'verbosity': 1,\n",
    "}"
   ]
  },
  {
   "cell_type": "code",
   "execution_count": 5,
   "metadata": {},
   "outputs": [],
   "source": [
    "# train the model\n",
    "model = xgb.train(xgb_params, dx, num_boost_round=100)"
   ]
  },
  {
   "cell_type": "code",
   "execution_count": 7,
   "metadata": {},
   "outputs": [],
   "source": [
    "output_model = '../xgboost_model.pkl'\n",
    "output_vectorizer = '../dv.pkl'\n",
    "\n",
    "# save model an vectorizer\n",
    "with open(output_model, \"wb\") as f:\n",
    "    pickle.dump(model, f)\n",
    "    \n",
    "with open(output_vectorizer, \"wb\") as f:\n",
    "    pickle.dump(dv, f)"
   ]
  },
  {
   "cell_type": "markdown",
   "metadata": {},
   "source": [
    "End of the notebook"
   ]
  }
 ],
 "metadata": {
  "kernelspec": {
   "display_name": "base",
   "language": "python",
   "name": "python3"
  },
  "language_info": {
   "codemirror_mode": {
    "name": "ipython",
    "version": 3
   },
   "file_extension": ".py",
   "mimetype": "text/x-python",
   "name": "python",
   "nbconvert_exporter": "python",
   "pygments_lexer": "ipython3",
   "version": "3.9.13"
  },
  "orig_nbformat": 4
 },
 "nbformat": 4,
 "nbformat_minor": 2
}

{
 "cells": [
  {
   "cell_type": "markdown",
   "metadata": {},
   "source": [
    "# 1. Info\n",
    "\n",
    "This notebook contains the code required to transform the raw data to the enriched data needed to predict the result."
   ]
  },
  {
   "cell_type": "markdown",
   "metadata": {},
   "source": [
    "# 2. Reading the new data"
   ]
  },
  {
   "cell_type": "code",
   "execution_count": 1,
   "metadata": {},
   "outputs": [],
   "source": [
    "# import libraries\n",
    "from functions import away_result, home_result, get_points, get_result\n",
    "import pandas as pd"
   ]
  },
  {
   "cell_type": "code",
   "execution_count": 2,
   "metadata": {},
   "outputs": [],
   "source": [
    "# read historical data\n",
    "historical_data = pd.read_csv('../data/enriched_data/premier_league.csv')"
   ]
  },
  {
   "cell_type": "code",
   "execution_count": 3,
   "metadata": {},
   "outputs": [],
   "source": [
    "# read data to predict\n",
    "predict_data = pd.read_csv('../data/predict_data.csv')"
   ]
  },
  {
   "cell_type": "code",
   "execution_count": 4,
   "metadata": {},
   "outputs": [],
   "source": [
    "# normalize team names\n",
    "predict_data['HomeTeam'] = predict_data['HomeTeam'].str.replace(\"'\",\"\").str.replace(\" \",\"_\")\n",
    "predict_data['AwayTeam'] = predict_data['AwayTeam'].str.replace(\"'\",\"\").str.replace(\" \",\"_\")"
   ]
  },
  {
   "cell_type": "code",
   "execution_count": 5,
   "metadata": {},
   "outputs": [],
   "source": [
    "# read teams dict \n",
    "teams_dict_df = pd.read_csv('../data/teams_dict.csv')"
   ]
  },
  {
   "cell_type": "code",
   "execution_count": 6,
   "metadata": {},
   "outputs": [],
   "source": [
    "# create the dict\n",
    "team_dict = {}\n",
    "for tuple in teams_dict_df.itertuples():\n",
    "    team_dict.update({tuple.Team:tuple.index_team})\n",
    "\n",
    "predict_data['HomeTeam'] = predict_data['HomeTeam'].replace(team_dict)\n",
    "predict_data['AwayTeam'] = predict_data['AwayTeam'].replace(team_dict)"
   ]
  },
  {
   "cell_type": "code",
   "execution_count": 7,
   "metadata": {},
   "outputs": [],
   "source": [
    "# adjust column types\n",
    "for column in predict_data.loc[:, predict_data.dtypes == float].columns:\n",
    "    predict_data[column] = predict_data[column].astype('int')"
   ]
  },
  {
   "cell_type": "code",
   "execution_count": 8,
   "metadata": {},
   "outputs": [],
   "source": [
    "team_data = {\n",
    "    'Date':[],\n",
    "    'Team':[],\n",
    "    'Opponent':[],\n",
    "    'season':[],\n",
    "    'Home':[]\n",
    "}"
   ]
  },
  {
   "cell_type": "code",
   "execution_count": 9,
   "metadata": {},
   "outputs": [],
   "source": [
    "# convert data to predict in the same format as historical data\n",
    "for tuple in predict_data.itertuples():\n",
    "    # home\n",
    "    team_data['Date'].append(tuple.Date)\n",
    "    team_data['Team'].append(tuple.HomeTeam)\n",
    "    team_data['Opponent'].append(tuple.AwayTeam)\n",
    "    team_data['season'].append(tuple.season)\n",
    "    team_data['Home'].append(1)\n",
    "\n",
    "    # away\n",
    "    team_data['Date'].append(tuple.Date)\n",
    "    team_data['Team'].append(tuple.AwayTeam)\n",
    "    team_data['Opponent'].append(tuple.HomeTeam)\n",
    "    team_data['season'].append(tuple.season)\n",
    "    team_data['Home'].append(0)"
   ]
  },
  {
   "cell_type": "code",
   "execution_count": 10,
   "metadata": {},
   "outputs": [],
   "source": [
    "predict_df = pd.DataFrame(data=team_data)"
   ]
  },
  {
   "cell_type": "code",
   "execution_count": 11,
   "metadata": {},
   "outputs": [],
   "source": [
    "# concat historical and predict data into one df\n",
    "df = pd.concat([historical_data,predict_df])"
   ]
  },
  {
   "cell_type": "code",
   "execution_count": 12,
   "metadata": {},
   "outputs": [],
   "source": [
    "# sort by date\n",
    "df['Date'] = pd.to_datetime(df['Date'], format=\"%Y-%m-%d\")\n",
    "sorted_data = df.sort_values(by=['season','Date']).reset_index(drop=True)\n",
    "\n",
    "# get the current season\n",
    "season = sorted_data.query(\"win_rate.isna()\").reset_index()['season'][0]"
   ]
  },
  {
   "cell_type": "code",
   "execution_count": 13,
   "metadata": {},
   "outputs": [],
   "source": [
    "# add 'ftg_scored_total','htg_scored_total','points','goal_difference'\n",
    "\n",
    "season_data_teams = sorted_data.query(f\"season == '{season}'\").reset_index().copy()\n",
    "\n",
    "# going only into the null rows, because are the ones that needs to be update\n",
    "for tuple in season_data_teams.query(\"win_rate.isna()\").itertuples():\n",
    "\n",
    "    # every itteration will require to create a new season_data dataFrame to\n",
    "    # have the most updated data to find the correct values\n",
    "    season_data = sorted_data.query(f\"season == '{season}'\").query(f\"Team == {tuple.Team}\").reset_index().copy()\n",
    "\n",
    "    # check if is the first round and set everything to 0\n",
    "    if season_data.query(\"FTG_scored_Total.notna()\").shape[0] == 0:\n",
    "        sorted_data.loc[tuple.index,'FTG_scored_Total'] = 0\n",
    "        sorted_data.loc[tuple.index,'FTG_received_Total'] = 0\n",
    "        sorted_data.loc[tuple.index,'HTG_scored_Total'] = 0\n",
    "        sorted_data.loc[tuple.index,'points'] = 0\n",
    "        sorted_data.loc[tuple.index,'goal_difference'] = 0\n",
    "\n",
    "    # when is not the first round, check the last information available and perform the operations    \n",
    "    else:\n",
    "        GF_last_match = season_data.query(\"FTG_scored.notna()\").sort_values(by=['Date'], ascending=False).reset_index()['FTG_scored'][0]\n",
    "        GA_last_match = season_data.query(\"FTG_received.notna()\").sort_values(by=['Date'], ascending=False).reset_index()['FTG_received'][0]\n",
    "        Result = get_result(GF_last_match,GA_last_match)\n",
    "\n",
    "        GF_last_match_HT = season_data.query(\"HTG_scored.notna()\").sort_values(by=['Date'], ascending=False).reset_index()['HTG_scored'][0]\n",
    "        \n",
    "        # add points\n",
    "        sorted_data.loc[tuple.index,'points'] = season_data.query(\"points.notna()\").sort_values(by=['Date'], ascending=False).reset_index()['points'][0] + get_points(Result)\n",
    "        \n",
    "        # add goals_scored FT\n",
    "        sorted_data.loc[tuple.index,'FTG_scored_Total'] = season_data.query(\"FTG_scored_Total.notna()\").sort_values(by=['Date'], ascending=False).reset_index()['FTG_scored_Total'][0] + int(GF_last_match)\n",
    "\n",
    "        # add goals_received FT\n",
    "        sorted_data.loc[tuple.index,'FTG_received_Total'] = season_data.query(\"FTG_received_Total.notna()\").sort_values(by=['Date'], ascending=False).reset_index()['FTG_received_Total'][0] + int(GA_last_match)\n",
    "\n",
    "        # add goals_scored HT\n",
    "        sorted_data.loc[tuple.index,'HTG_scored_Total'] = season_data.query(\"HTG_scored_Total.notna()\").sort_values(by=['Date'], ascending=False).reset_index()['HTG_scored_Total'][0] + int(GF_last_match_HT)\n",
    "\n",
    "        sorted_data.loc[tuple.index,'goal_difference'] = sorted_data.loc[tuple.index,'FTG_scored_Total'] - sorted_data.loc[tuple.index,'FTG_received_Total']"
   ]
  },
  {
   "cell_type": "code",
   "execution_count": 14,
   "metadata": {},
   "outputs": [],
   "source": [
    "# add 'position'\n",
    "\n",
    "season_data = sorted_data.query(f\"season == '{season}'\").reset_index().copy()\n",
    "\n",
    "for tuple in season_data.query(\"win_rate.isna()\").itertuples():\n",
    "\n",
    "    if season_data.query(\"win_rate.notna()\").shape[0] == 0:\n",
    "        sorted_data.loc[tuple.index,'position'] = 0\n",
    "    \n",
    "    else:\n",
    "        # the season dataFrame will be filtered to get the past data, drop duplicates\n",
    "        # sort by points and goals and finally merge the output with the data from the\n",
    "        # current fixture\n",
    "        past_data = season_data.sort_values(by=['Date']).copy()\n",
    "        unique_teams_data = past_data.drop_duplicates(\n",
    "            subset=['Team'], \n",
    "            keep='last'\n",
    "        )\n",
    "        position_data = unique_teams_data.sort_values(\n",
    "            by=['points','goal_difference','FTG_scored_Total','FTG_received_Total'],\n",
    "            ascending=False\n",
    "        ).reset_index(drop=True)\n",
    "\n",
    "        current_position_data = position_data[['Team']].reset_index()\n",
    "        current_position_data.columns = ['current_position','Team']\n",
    "        current_position_data['current_position'] = current_position_data['current_position']+1\n",
    "\n",
    "        sorted_data.loc[tuple.index,'position'] = current_position_data.query(f\"Team == {tuple.Team}\").reset_index()['current_position'][0]"
   ]
  },
  {
   "cell_type": "code",
   "execution_count": 15,
   "metadata": {},
   "outputs": [],
   "source": [
    "# add 'win_rate','mooving_win_rate','mooving_goals_scored'\n",
    "\n",
    "# this new column is because when creating the win rate, the only result that should sum must be the win.\n",
    "sorted_data['Win'] = sorted_data['FT_Result'].replace({2:0})\n",
    "\n",
    "idx_delete = []\n",
    "\n",
    "for season in sorted_data['season'].unique().tolist():\n",
    "    # get data season\n",
    "    data_season = sorted_data.query(f\"season == '{season}'\")\n",
    "\n",
    "    # iterate by team\n",
    "    for team in data_season.query(\"win_rate.isna()\")['Team'].unique().tolist():\n",
    "        # get data by team\n",
    "        data_team = data_season.query(f\"Team == {team}\").reset_index().rename(columns={'index':'old_idx'})\n",
    "\n",
    "\n",
    "        # get the win_rate, mooving win_rate and mooving_goals\n",
    "        for idx, row in data_team.iterrows():\n",
    "            # condition to avoid out of index mistake\n",
    "            if idx + 1 <= len(data_team['old_idx']):\n",
    "\n",
    "                # win_rate\n",
    "                total_wins = int(data_team.query(f\"old_idx < {row['old_idx']}\")['Win'].sum())\n",
    "                if total_wins == 0:\n",
    "                    sorted_data.loc[data_team.loc[idx,'old_idx'],'win_rate'] = 0\n",
    "                else:\n",
    "                    sorted_data.loc[data_team.loc[idx,'old_idx'],'win_rate'] = total_wins / idx\n",
    "\n",
    "                # mooving_win_rate\n",
    "                # get the index list filter\n",
    "                if idx < 5:\n",
    "                    index_list = [idx_number for idx_number in range(0,idx+1)]\n",
    "                else:\n",
    "                    index_list = [idx_number for idx_number in range(idx-4,idx+1)]\n",
    "\n",
    "                total_wins = int(data_team.query(f\"index in {index_list}\")['Win'].sum())\n",
    "                if total_wins == 0:\n",
    "                    sorted_data.loc[data_team.loc[idx,'old_idx'],'mooving_win_rate'] = 0\n",
    "                elif idx == 0:\n",
    "                    sorted_data.loc[data_team.loc[idx,'old_idx'],'mooving_win_rate'] = 0\n",
    "                else:\n",
    "                    sorted_data.loc[data_team.loc[idx,'old_idx'],'mooving_win_rate'] = total_wins / 5\n",
    "                \n",
    "                # mooving goals scored\n",
    "                total_goals_scored = int(data_team.query(f\"index in {index_list}\")['FTG_scored_Total'].sum())\n",
    "                if total_goals_scored == 0:\n",
    "                    sorted_data.loc[data_team.loc[idx,'old_idx'],'mooving_goals_scored'] = 0\n",
    "                elif idx == 0:\n",
    "                    sorted_data.loc[data_team.loc[idx,'old_idx'],'mooving_goals_scored'] = 0\n",
    "                else:\n",
    "                    sorted_data.loc[data_team.loc[idx,'old_idx'],'mooving_goals_scored'] = total_goals_scored / 5\n",
    "\n",
    "                # mooving goals received\n",
    "                total_goals_received = int(data_team.query(f\"index in {index_list}\")['FTG_received_Total'].sum())\n",
    "                if total_goals_received == 0:\n",
    "                    sorted_data.loc[data_team.loc[idx,'old_idx'],'mooving_goals_received'] = 0\n",
    "                elif idx == 0:\n",
    "                    sorted_data.loc[data_team.loc[idx,'old_idx'],'mooving_goals_received'] = 0\n",
    "                else:\n",
    "                    sorted_data.loc[data_team.loc[idx,'old_idx'],'mooving_goals_received'] = total_goals_received / 5\n",
    "\n",
    "                # index of rows to be delete\n",
    "                if idx < 5:\n",
    "                    idx_delete.append(data_team.loc[idx,'old_idx'])\n"
   ]
  },
  {
   "cell_type": "code",
   "execution_count": 16,
   "metadata": {},
   "outputs": [],
   "source": [
    "sorted_data.columns = sorted_data.columns.str.lower().str.replace(' ', '_')"
   ]
  },
  {
   "cell_type": "code",
   "execution_count": 17,
   "metadata": {},
   "outputs": [],
   "source": [
    "data_to_predict = sorted_data.query(\"win.isna()\")[['ftg_scored_total','htg_scored_total','points','goal_difference','position','win_rate','mooving_win_rate','mooving_goals_scored']]"
   ]
  },
  {
   "cell_type": "code",
   "execution_count": 18,
   "metadata": {},
   "outputs": [],
   "source": [
    "# adjust column types\n",
    "for column in data_to_predict.loc[:, data_to_predict.dtypes == float].columns:\n",
    "    if column not in ['mooving_win_rate','mooving_goals_scored','win_rate']:\n",
    "        data_to_predict[column] = data_to_predict[column].astype('int')"
   ]
  },
  {
   "cell_type": "code",
   "execution_count": 19,
   "metadata": {},
   "outputs": [],
   "source": [
    "data_to_predict.to_csv('../data/to_predict/premier_league_001.csv', index=False)"
   ]
  },
  {
   "cell_type": "markdown",
   "metadata": {},
   "source": [
    "End of notebook"
   ]
  }
 ],
 "metadata": {
  "kernelspec": {
   "display_name": "base",
   "language": "python",
   "name": "python3"
  },
  "language_info": {
   "codemirror_mode": {
    "name": "ipython",
    "version": 3
   },
   "file_extension": ".py",
   "mimetype": "text/x-python",
   "name": "python",
   "nbconvert_exporter": "python",
   "pygments_lexer": "ipython3",
   "version": "3.9.13"
  },
  "orig_nbformat": 4
 },
 "nbformat": 4,
 "nbformat_minor": 2
}

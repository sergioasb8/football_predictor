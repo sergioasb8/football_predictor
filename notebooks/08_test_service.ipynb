{
 "cells": [
  {
   "cell_type": "markdown",
   "metadata": {},
   "source": [
    "# 1 Info\n",
    "\n",
    "Notebook to test the services. Local and cloud."
   ]
  },
  {
   "cell_type": "markdown",
   "metadata": {},
   "source": [
    "# 2. Import Requests"
   ]
  },
  {
   "cell_type": "code",
   "execution_count": 3,
   "metadata": {},
   "outputs": [],
   "source": [
    "import requests"
   ]
  },
  {
   "cell_type": "markdown",
   "metadata": {},
   "source": [
    "# 3. Set jsons to test the service."
   ]
  },
  {
   "cell_type": "code",
   "execution_count": 4,
   "metadata": {},
   "outputs": [],
   "source": [
    "team_data = {\n",
    "    \"ftg_scored_total\": 12,\n",
    "    \"htg_scored_total\": 5,\n",
    "    \"points\": 13,\n",
    "    \"goal_difference\": 8,\n",
    "    \"position\": 1,\n",
    "    \"win_rate\": 0.8,\n",
    "    \"mooving_win_rate\": 0.8,\n",
    "    \"mooving_goals_scored\": 6.4\n",
    " }"
   ]
  },
  {
   "cell_type": "code",
   "execution_count": 5,
   "metadata": {},
   "outputs": [],
   "source": [
    "team_data_2 = {\n",
    "    \"ftg_scored_total\": 12,\n",
    "    \"htg_scored_total\": 5,\n",
    "    \"points\": 13,\n",
    "    \"goal_difference\": 20,\n",
    "    \"position\": 1,\n",
    "    \"win_rate\": 0.8,\n",
    "    \"mooving_win_rate\": 0.8,\n",
    "    \"mooving_goals_scored\": 9.4\n",
    "}"
   ]
  },
  {
   "cell_type": "markdown",
   "metadata": {},
   "source": [
    "# 4. Test local service\n",
    "\n",
    "This is sample code to test the service locally. There are two ways to activate the service locally:\n",
    "\n",
    "[Using gunicorn inside the virutal environment](https://github.com/sergioasb8/midterm_project/tree/main#virtual-enviroment)\n",
    "\n",
    "[Using docker](https://github.com/sergioasb8/midterm_project/tree/main#virtual-enviroment)\n",
    "    \n",
    "Follow the __README.md__ to activate the service on your computer with the option of your preference. "
   ]
  },
  {
   "cell_type": "code",
   "execution_count": 12,
   "metadata": {},
   "outputs": [],
   "source": [
    "local_url = 'http://0.0.0.0:9696/football_result'"
   ]
  },
  {
   "cell_type": "code",
   "execution_count": 13,
   "metadata": {},
   "outputs": [
    {
     "data": {
      "text/plain": [
       "{'win': True, 'win_probability': 0.5769428014755249}"
      ]
     },
     "execution_count": 13,
     "metadata": {},
     "output_type": "execute_result"
    }
   ],
   "source": [
    "requests.post(local_url, json=team_data).json()"
   ]
  },
  {
   "cell_type": "code",
   "execution_count": 14,
   "metadata": {},
   "outputs": [
    {
     "data": {
      "text/plain": [
       "{'win': True, 'win_probability': 0.8513011932373047}"
      ]
     },
     "execution_count": 14,
     "metadata": {},
     "output_type": "execute_result"
    }
   ],
   "source": [
    "requests.post(local_url, json=team_data_2).json()"
   ]
  },
  {
   "cell_type": "markdown",
   "metadata": {},
   "source": [
    "# 5. Test cloud service\n",
    "\n",
    "This service is live in the cloud but since is using a free plan from render, the first call could take longer than expected. Please be patient."
   ]
  },
  {
   "cell_type": "code",
   "execution_count": 9,
   "metadata": {},
   "outputs": [],
   "source": [
    "cloud_url = 'https://footballpredictor.onrender.com/football_result'"
   ]
  },
  {
   "cell_type": "code",
   "execution_count": 10,
   "metadata": {},
   "outputs": [
    {
     "data": {
      "text/plain": [
       "{'win': True, 'win_probability': 0.5769428014755249}"
      ]
     },
     "execution_count": 10,
     "metadata": {},
     "output_type": "execute_result"
    }
   ],
   "source": [
    "requests.post(cloud_url, json=team_data).json()"
   ]
  },
  {
   "cell_type": "code",
   "execution_count": 11,
   "metadata": {},
   "outputs": [
    {
     "data": {
      "text/plain": [
       "{'win': True, 'win_probability': 0.8513011932373047}"
      ]
     },
     "execution_count": 11,
     "metadata": {},
     "output_type": "execute_result"
    }
   ],
   "source": [
    "requests.post(cloud_url, json=team_data_2).json()"
   ]
  },
  {
   "cell_type": "code",
   "execution_count": null,
   "metadata": {},
   "outputs": [],
   "source": []
  }
 ],
 "metadata": {
  "kernelspec": {
   "display_name": "base",
   "language": "python",
   "name": "python3"
  },
  "language_info": {
   "codemirror_mode": {
    "name": "ipython",
    "version": 3
   },
   "file_extension": ".py",
   "mimetype": "text/x-python",
   "name": "python",
   "nbconvert_exporter": "python",
   "pygments_lexer": "ipython3",
   "version": "3.11.6"
  },
  "orig_nbformat": 4
 },
 "nbformat": 4,
 "nbformat_minor": 2
}
